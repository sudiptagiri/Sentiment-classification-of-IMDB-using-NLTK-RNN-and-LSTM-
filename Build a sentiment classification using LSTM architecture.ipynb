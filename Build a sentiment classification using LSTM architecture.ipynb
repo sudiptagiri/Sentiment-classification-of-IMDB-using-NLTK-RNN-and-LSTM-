{
 "cells": [
  {
   "cell_type": "markdown",
   "id": "37b55bb3-947f-409e-ba06-5b47fe3b637f",
   "metadata": {},
   "source": [
    "### create a classification model using LSTM"
   ]
  },
  {
   "cell_type": "code",
   "execution_count": 1,
   "id": "1c943c08-6f43-45d4-b2ba-1de8abd84b25",
   "metadata": {},
   "outputs": [
    {
     "name": "stdout",
     "output_type": "stream",
     "text": [
      "WARNING:tensorflow:From C:\\Users\\hp\\AppData\\Roaming\\Python\\Python311\\site-packages\\keras\\src\\losses.py:2976: The name tf.losses.sparse_softmax_cross_entropy is deprecated. Please use tf.compat.v1.losses.sparse_softmax_cross_entropy instead.\n",
      "\n"
     ]
    }
   ],
   "source": [
    "import tensorflow as tf\n",
    "from tensorflow.keras.datasets import imdb\n",
    "from tensorflow.keras.preprocessing.sequence import pad_sequences\n",
    "from tensorflow.keras.models import Sequential\n",
    "from tensorflow.keras.layers import Embedding,LSTM,Dense"
   ]
  },
  {
   "cell_type": "code",
   "execution_count": 2,
   "id": "d3db9a90-b4bd-4b73-8a92-97f96bed031d",
   "metadata": {},
   "outputs": [],
   "source": [
    "# load IMDB movie reviews dataset\n",
    "vocab_size = 10000 # consider only the top 10,000 words in the dataset\n",
    "maxlen = 500 # cuts off reviews after 500 words\n",
    "(train_data,train_labels),(test_data,test_labels) = imdb.load_data(num_words=vocab_size)"
   ]
  },
  {
   "cell_type": "code",
   "execution_count": 3,
   "id": "2bd7d15f-92f9-4a82-a0b8-cabd25ab24ff",
   "metadata": {},
   "outputs": [],
   "source": [
    "#pad sequences to ensure uniform length \n",
    "train_data = pad_sequences(train_data,maxlen=maxlen)\n",
    "test_data = pad_sequences(test_data,maxlen=maxlen)"
   ]
  },
  {
   "cell_type": "code",
   "execution_count": 4,
   "id": "329f9c3d-3b48-4609-b316-94f518f32bd1",
   "metadata": {},
   "outputs": [
    {
     "name": "stdout",
     "output_type": "stream",
     "text": [
      "WARNING:tensorflow:From C:\\Users\\hp\\AppData\\Roaming\\Python\\Python311\\site-packages\\keras\\src\\backend.py:873: The name tf.get_default_graph is deprecated. Please use tf.compat.v1.get_default_graph instead.\n",
      "\n"
     ]
    }
   ],
   "source": [
    "# create the LSTM modelk\n",
    "model = Sequential()"
   ]
  },
  {
   "cell_type": "code",
   "execution_count": 5,
   "id": "c0fb51f5-3d91-4f91-b592-43018f7ce5e0",
   "metadata": {},
   "outputs": [],
   "source": [
    "model.add(Embedding(vocab_size,32)) # 32 is the embedding dimension"
   ]
  },
  {
   "cell_type": "code",
   "execution_count": 6,
   "id": "1b285219-daa7-49c0-83fb-b1504be64817",
   "metadata": {},
   "outputs": [],
   "source": [
    "model.add(LSTM(32)) # 32 is the output dimension of the LSTM layer"
   ]
  },
  {
   "cell_type": "code",
   "execution_count": 7,
   "id": "e9176a0f-fe4b-4229-9901-b5c83a4c714a",
   "metadata": {},
   "outputs": [],
   "source": [
    "model.add(Dense(1,activation='sigmoid')) # binary classification (positive /negative)"
   ]
  },
  {
   "cell_type": "code",
   "execution_count": 8,
   "id": "bc9fd229-e9a4-46ef-bc02-e2ba7680d558",
   "metadata": {},
   "outputs": [
    {
     "name": "stdout",
     "output_type": "stream",
     "text": [
      "WARNING:tensorflow:From C:\\Users\\hp\\AppData\\Roaming\\Python\\Python311\\site-packages\\keras\\src\\optimizers\\__init__.py:309: The name tf.train.Optimizer is deprecated. Please use tf.compat.v1.train.Optimizer instead.\n",
      "\n"
     ]
    }
   ],
   "source": [
    "model.compile(optimizer='rmsprop',loss='binary_crossentropy',metrics=['acc'])"
   ]
  },
  {
   "cell_type": "code",
   "execution_count": 9,
   "id": "5746d56b-6b81-4b42-bac0-cb05c712edb8",
   "metadata": {},
   "outputs": [
    {
     "name": "stdout",
     "output_type": "stream",
     "text": [
      "Epoch 1/10\n",
      "WARNING:tensorflow:From C:\\Users\\hp\\AppData\\Roaming\\Python\\Python311\\site-packages\\keras\\src\\utils\\tf_utils.py:492: The name tf.ragged.RaggedTensorValue is deprecated. Please use tf.compat.v1.ragged.RaggedTensorValue instead.\n",
      "\n",
      "WARNING:tensorflow:From C:\\Users\\hp\\AppData\\Roaming\\Python\\Python311\\site-packages\\keras\\src\\engine\\base_layer_utils.py:384: The name tf.executing_eagerly_outside_functions is deprecated. Please use tf.compat.v1.executing_eagerly_outside_functions instead.\n",
      "\n",
      "157/157 [==============================] - 39s 231ms/step - loss: 0.6025 - acc: 0.6720 - val_loss: 0.4641 - val_acc: 0.7844\n",
      "Epoch 2/10\n",
      "157/157 [==============================] - 39s 250ms/step - loss: 0.3633 - acc: 0.8543 - val_loss: 0.3079 - val_acc: 0.8764\n",
      "Epoch 3/10\n",
      "157/157 [==============================] - 40s 254ms/step - loss: 0.2852 - acc: 0.8924 - val_loss: 0.3799 - val_acc: 0.8664\n",
      "Epoch 4/10\n",
      "157/157 [==============================] - 39s 246ms/step - loss: 0.2328 - acc: 0.9115 - val_loss: 0.3997 - val_acc: 0.8378\n",
      "Epoch 5/10\n",
      "157/157 [==============================] - 38s 241ms/step - loss: 0.2043 - acc: 0.9276 - val_loss: 0.3931 - val_acc: 0.8740\n",
      "Epoch 6/10\n",
      "157/157 [==============================] - 38s 242ms/step - loss: 0.1830 - acc: 0.9328 - val_loss: 0.3669 - val_acc: 0.8746\n",
      "Epoch 7/10\n",
      "157/157 [==============================] - 38s 241ms/step - loss: 0.1675 - acc: 0.9413 - val_loss: 0.2971 - val_acc: 0.8872\n",
      "Epoch 8/10\n",
      "157/157 [==============================] - 38s 241ms/step - loss: 0.1464 - acc: 0.9484 - val_loss: 0.3258 - val_acc: 0.8836\n",
      "Epoch 9/10\n",
      "157/157 [==============================] - 38s 242ms/step - loss: 0.1355 - acc: 0.9531 - val_loss: 0.3605 - val_acc: 0.8742\n",
      "Epoch 10/10\n",
      "157/157 [==============================] - 38s 244ms/step - loss: 0.1221 - acc: 0.9582 - val_loss: 0.3665 - val_acc: 0.8706\n"
     ]
    }
   ],
   "source": [
    "# train the model\n",
    "history = model.fit(train_data, train_labels, epochs=10, batch_size=128, validation_split=0.2)"
   ]
  },
  {
   "cell_type": "code",
   "execution_count": 10,
   "id": "9f0cdf78-c890-4115-9dcd-6ae35b53b6d1",
   "metadata": {},
   "outputs": [
    {
     "name": "stdout",
     "output_type": "stream",
     "text": [
      "782/782 [==============================] - 34s 43ms/step - loss: 0.3856 - acc: 0.8656\n",
      "Test accuracy : 0.8655999898910522\n"
     ]
    }
   ],
   "source": [
    "# Evaluate the model on the test set\n",
    "test_loss, test_acc = model.evaluate(test_data, test_labels)\n",
    "print(f\"Test accuracy : {test_acc}\")"
   ]
  },
  {
   "cell_type": "code",
   "execution_count": null,
   "id": "de527bfc-d730-4231-abfd-0f2dd30d50db",
   "metadata": {},
   "outputs": [],
   "source": []
  }
 ],
 "metadata": {
  "kernelspec": {
   "display_name": "Python 3 (ipykernel)",
   "language": "python",
   "name": "python3"
  },
  "language_info": {
   "codemirror_mode": {
    "name": "ipython",
    "version": 3
   },
   "file_extension": ".py",
   "mimetype": "text/x-python",
   "name": "python",
   "nbconvert_exporter": "python",
   "pygments_lexer": "ipython3",
   "version": "3.11.7"
  }
 },
 "nbformat": 4,
 "nbformat_minor": 5
}
