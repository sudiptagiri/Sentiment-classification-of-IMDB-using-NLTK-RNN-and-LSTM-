{
 "cells": [
  {
   "cell_type": "markdown",
   "id": "efcc83f2-b762-4a9b-a9fb-f3dd19490118",
   "metadata": {},
   "source": [
    "## Build a sentiment classifier using NLTK and ML"
   ]
  },
  {
   "cell_type": "code",
   "execution_count": 1,
   "id": "a5771d66-5c64-4acb-b4c7-f21dacce3994",
   "metadata": {},
   "outputs": [],
   "source": [
    "import nltk\n",
    "from nltk.corpus import movie_reviews\n",
    "from nltk.classify import NaiveBayesClassifier\n",
    "from nltk.classify.util import accuracy as nltk_accuracy\n",
    "from nltk.corpus imcategories()port stopwords\n",
    "from nltk.tokenize import word_tokenize"
   ]
  },
  {
   "cell_type": "code",
   "execution_count": 2,
   "id": "10e514e9-bfa4-4740-ac47-2d46fb39a16b",
   "metadata": {},
   "outputs": [],
   "source": [
    "import random"
   ]
  },
  {
   "cell_type": "code",
   "execution_count": 3,
   "id": "40b459e4-6b04-4f9d-8b68-3e355b9ba93e",
   "metadata": {},
   "outputs": [
    {
     "name": "stderr",
     "output_type": "stream",
     "text": [
      "[nltk_data] Downloading package movie_reviews to\n",
      "[nltk_data]     C:\\Users\\hp\\AppData\\Roaming\\nltk_data...\n",
      "[nltk_data]   Unzipping corpora\\movie_reviews.zip.\n",
      "[nltk_data] Downloading package punkt to\n",
      "[nltk_data]     C:\\Users\\hp\\AppData\\Roaming\\nltk_data...\n",
      "[nltk_data]   Package punkt is already up-to-date!\n",
      "[nltk_data] Downloading package stopwords to\n",
      "[nltk_data]     C:\\Users\\hp\\AppData\\Roaming\\nltk_data...\n",
      "[nltk_data]   Package stopwords is already up-to-date!\n"
     ]
    },
    {
     "data": {
      "text/plain": [
       "True"
      ]
     },
     "execution_count": 3,
     "metadata": {},
     "output_type": "execute_result"
    }
   ],
   "source": [
    "nltk.download('movie_reviews')\n",
    "nltk.download('punkt')\n",
    "nltk.download('stopwords')"
   ]
  },
  {
   "cell_type": "code",
   "execution_count": 4,
   "id": "4e6c3f2f-9d13-4a4e-b08a-86da3ae71f0b",
   "metadata": {},
   "outputs": [],
   "source": [
    "documents = [(list(movie_reviews.words(fileid)),category)\n",
    "             for category in movie_reviews.categories()\n",
    "             for fileid in movie_reviews.fileids(category)]"
   ]
  },
  {
   "cell_type": "code",
   "execution_count": 5,
   "id": "a7a4979a-cba2-48f7-adbc-8d6637ee379b",
   "metadata": {},
   "outputs": [],
   "source": [
    "#suffle the documents\n",
    "random.shuffle(documents)"
   ]
  },
  {
   "cell_type": "code",
   "execution_count": 6,
   "id": "73557b2d-f0e3-4889-a396-3ab34627f9b2",
   "metadata": {},
   "outputs": [],
   "source": [
    "def extract_features(words):\n",
    "    return dict([(word,True) for word in words if word not in stopwords.words('english')])"
   ]
  },
  {
   "cell_type": "code",
   "execution_count": 7,
   "id": "2ee3360b-e316-4335-beb2-20875749c213",
   "metadata": {},
   "outputs": [],
   "source": [
    "# define the features sets\n",
    "featuresets = [(extract_features(doc),category) for (doc,category) in documents]"
   ]
  },
  {
   "cell_type": "code",
   "execution_count": 8,
   "id": "fabdff2a-831c-472c-a7f5-c76773667243",
   "metadata": {},
   "outputs": [],
   "source": [
    "# split the feature sets into training and testing datasets \n",
    "train_set,test_set = featuresets[100:],featuresets[:100]"
   ]
  },
  {
   "cell_type": "code",
   "execution_count": 9,
   "id": "2967ded1-2a27-4b63-bf23-ca4bfda8ab3d",
   "metadata": {},
   "outputs": [],
   "source": [
    "classifier = NaiveBayesClassifier.train(train_set)"
   ]
  },
  {
   "cell_type": "code",
   "execution_count": 10,
   "id": "a01f471d-fc8f-4892-8f3a-8ae24030714a",
   "metadata": {},
   "outputs": [
    {
     "name": "stdout",
     "output_type": "stream",
     "text": [
      "Accuracy :  0.72\n"
     ]
    }
   ],
   "source": [
    "print('Accuracy : ',nltk_accuracy(classifier,test_set))"
   ]
  },
  {
   "cell_type": "code",
   "execution_count": 11,
   "id": "e4891e03-7a8e-4feb-9e67-81eafca208a2",
   "metadata": {},
   "outputs": [],
   "source": [
    "def sentiment_analysis(text):\n",
    "    words = word_tokenize(text)\n",
    "    features = extract_features(words)\n",
    "    return classifier.classify(features)"
   ]
  },
  {
   "cell_type": "code",
   "execution_count": 12,
   "id": "f207a82e-26f0-4d11-a1f9-6dd3400a920e",
   "metadata": {},
   "outputs": [
    {
     "name": "stdout",
     "output_type": "stream",
     "text": [
      "review: sudip is a great guy\n"
     ]
    }
   ],
   "source": [
    "# write a new review \n",
    "new_review = 'sudip is a great guy'\n",
    "print('review:',new_review)"
   ]
  },
  {
   "cell_type": "code",
   "execution_count": 23,
   "id": "b1a76086-60e5-4f24-93ae-c417cfa1081b",
   "metadata": {},
   "outputs": [
    {
     "name": "stdout",
     "output_type": "stream",
     "text": [
      "review: deepak is great\n"
     ]
    }
   ],
   "source": [
    "# write a new review \n",
    "new_review = 'deepak is great'\n",
    "print('review:',new_review)"
   ]
  },
  {
   "cell_type": "code",
   "execution_count": 24,
   "id": "c395d7bc-8c7c-4f61-83e1-61a2dc500534",
   "metadata": {},
   "outputs": [
    {
     "name": "stdout",
     "output_type": "stream",
     "text": [
      "sentiment: neg\n"
     ]
    }
   ],
   "source": [
    "# check result for new review \n",
    "print('sentiment:',sentiment_analysis(new_review))"
   ]
  },
  {
   "cell_type": "code",
   "execution_count": null,
   "id": "92702f18-a457-43d6-9fe4-b3cef3927883",
   "metadata": {},
   "outputs": [],
   "source": []
  }
 ],
 "metadata": {
  "kernelspec": {
   "display_name": "Python 3 (ipykernel)",
   "language": "python",
   "name": "python3"
  },
  "language_info": {
   "codemirror_mode": {
    "name": "ipython",
    "version": 3
   },
   "file_extension": ".py",
   "mimetype": "text/x-python",
   "name": "python",
   "nbconvert_exporter": "python",
   "pygments_lexer": "ipython3",
   "version": "3.11.7"
  }
 },
 "nbformat": 4,
 "nbformat_minor": 5
}
